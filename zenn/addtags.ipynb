{
 "cells": [
  {
   "cell_type": "code",
   "execution_count": 2,
   "metadata": {},
   "outputs": [],
   "source": [
    "import requests\n",
    "from bs4 import BeautifulSoup\n",
    "import re\n",
    "import pandas as pd\n",
    "import sqlite3"
   ]
  },
  {
   "cell_type": "code",
   "execution_count": 3,
   "metadata": {},
   "outputs": [
    {
     "ename": "KeyError",
     "evalue": "'published'",
     "output_type": "error",
     "traceback": [
      "\u001b[0;31m---------------------------------------------------------------------------\u001b[0m",
      "\u001b[0;31mKeyError\u001b[0m                                  Traceback (most recent call last)",
      "Cell \u001b[0;32mIn[3], line 19\u001b[0m\n\u001b[1;32m     17\u001b[0m published_articles \u001b[39m=\u001b[39m []\n\u001b[1;32m     18\u001b[0m \u001b[39mfor\u001b[39;00m json_data \u001b[39min\u001b[39;00m articles_json:\n\u001b[0;32m---> 19\u001b[0m     \u001b[39mif\u001b[39;00m json_data[\u001b[39m\"\u001b[39;49m\u001b[39mpublished\u001b[39;49m\u001b[39m\"\u001b[39;49m]:\n\u001b[1;32m     20\u001b[0m         published_articles\u001b[39m.\u001b[39mappend(Article(json_data))\n\u001b[1;32m     22\u001b[0m sorted_articles \u001b[39m=\u001b[39m \u001b[39msorted\u001b[39m(published_articles, key\u001b[39m=\u001b[39m\u001b[39mlambda\u001b[39;00m article: article\u001b[39m.\u001b[39mcreated_at)\n",
      "\u001b[0;31mKeyError\u001b[0m: 'published'"
     ]
    }
   ],
   "source": [
    "import requests\n",
    "\n",
    "username = 'yorifuji'\n",
    "params = {'username': username}\n",
    "\n",
    "response = requests.get('https://zenn.dev/api/articles', params=params)\n",
    "articles_json = response.json()[\"articles\"]\n",
    "\n",
    "class Article:\n",
    "    def __init__(self, json_data):\n",
    "        self.id = json_data[\"id\"]\n",
    "        self.title = json_data[\"title\"]\n",
    "        self.url = f'https://zenn.dev/yorifuji/articles/{json_data[\"slug\"]}'\n",
    "        self.created_at = json_data[\"created_at\"]\n",
    "        self.published = json_data[\"published\"]\n",
    "\n",
    "published_articles = []\n",
    "for json_data in articles_json:\n",
    "    if json_data[\"published\"]:\n",
    "        published_articles.append(Article(json_data))\n",
    "\n",
    "sorted_articles = sorted(published_articles, key=lambda article: article.created_at)\n",
    "\n",
    "for article in sorted_articles:\n",
    "    print(f'{article.id},{article.title},{article.url},{article.created_at}')\n"
   ]
  },
  {
   "cell_type": "code",
   "execution_count": 4,
   "metadata": {},
   "outputs": [
    {
     "name": "stdout",
     "output_type": "stream",
     "text": [
      "['/kagan/articles/html-text-level-semantics', '/frontend_news/articles/904cda6410d44e', '/ficilcom/articles/app_router_registant_to_changes', '/pluck/articles/42d30febace0a7', '/entaku/articles/8cb384245fc302', '/vim_jp/articles/2023-08-21-vim-accomplished-plugins-result-2', '/shundeveloper/articles/8be490a0327cb1', '/kyome/articles/d21dbf28287927', '/fraim/articles/produce-measurement-with-attributes-from-tracing', '/airiswim/articles/1643db802618de', '/bs_kansai/articles/8618aaa04504b7', '/ikefukurou777/articles/6518f3facf64eb', '/top/articles/55e445cd49378d', '/otoyo/articles/8b9b93db4e2265', '/togetine/articles/6c9db2db7a9dd9', '/myuon/articles/bd2a0e134cdd24', '/ken_ty/articles/417f58aaa67ec3', '/ryoyoshii/articles/ce928c3f89af55', '/flutteruniv_dev/articles/bfc3b4be6b31ae', '/minedia/articles/61a9a107211422', '/ms5/articles/f9173936299b1d', '/ficilcom/articles/agile-development-experience', '/bs_kansai/articles/6508e7b37e137f', '/egstock_inc/articles/1dd8cc2d38f2ef', '/msakuta/articles/c92b769aa67773', '/n_miyagawa/articles/202308_mac_must_have_apps', '/ikuya/articles/aa69fd1009b773', '/paiza/articles/continuous-deleting-unused-codes', '/kyome/articles/19922149714537', '/akihiro_ya/articles/be988dedce32a2', '/ikawaha/articles/20230820-fcae76bc205341', '/hotaka_noda/articles/0400a732768bdd', '/msakuta/articles/51215f7778d04d', '/namioto/articles/4508a30da63fe0', '/uu/articles/aace33b2957adc', '/szktty/articles/pico8-forum-post', '/frontend_news/articles/b080cf00a4f2bd', '/tsukiyama3/articles/3f423e8d9d2ac4', '/maronn/articles/8cbdc6cf56b2d3', '/104/articles/e6bb2dfae2ead3', '/rihitosakurai/articles/979b4f6687d0f4', '/suiten/articles/05d10266e1d722', '/aew2sbee/articles/react-usestate', '/igrep/articles/2023-08-nestbox', '/nmurata113/articles/0015ab6ea753ee', '/nijigen_plot/articles/965942989e389a', '/ikedam/articles/1470dee2a19975', '/singularity/articles/20230820_raspi-for-aws-3']\n",
      "['HTML', 'アクセシビリティ', '#waiaria']\n"
     ]
    }
   ],
   "source": [
    "conn = sqlite3.connect('data.db')\n",
    "c = conn.cursor()\n",
    "\n",
    "while True:\n",
    "    response = requests.get('https://zenn.dev/api/articles')\n",
    "    articles_json = response.json()[\"articles\"]\n",
    "\n",
    "    # pathを取得\n",
    "    paths = [article[\"path\"] for article in articles_json]\n",
    "    print(paths)\n",
    "    for path in paths:\n",
    "\n",
    "        # DBの中に同じpathがあるかどうかを確認\n",
    "        c.execute(\"SELECT * FROM url WHERE url=?\", (path,))\n",
    "        # ある場合は操作をパス\n",
    "        if c.fetchone() is not None:\n",
    "            continue\n",
    "\n",
    "        # pathをDBに保存\n",
    "        c.execute(\"INSERT INTO url(url) VALUES (?)\", (path,))\n",
    "\n",
    "        # tagsを取得\n",
    "        url = f'https://zenn.dev/{path}'\n",
    "        response = requests.get(url)\n",
    "        soup = BeautifulSoup(response.text, 'html.parser')\n",
    "\n",
    "        # div class=\"View_topics__OVMdM\"の中のaタグを取得\n",
    "        tags = [tag.text for tag in soup.select('div.View_topics__OVMdM a')]\n",
    "\n",
    "        # 最後の一個は消す\n",
    "        tags.pop()\n",
    "        print(tags)\n",
    "\n",
    "        # tagsをDBに保存\n",
    "        for tag in tags:\n",
    "            # 文字列の最初に#がついていたら消す\n",
    "            if tag[0] == \"#\":\n",
    "                tag = tag[1:]\n",
    "            c.execute(\"INSERT INTO node(node) VALUES (?)\", (tag,))\n",
    "        \n",
    "        # nodeのidが1000を超えたらbreak\n",
    "        c.execute(\"SELECT * FROM node\")\n",
    "        if len(c.fetchall()) > 1000:\n",
    "            break\n",
    "    # nodeのidが1000を超えたらbreak\n",
    "    c.execute(\"SELECT * FROM node\")\n",
    "    if len(c.fetchall()) > 1000:\n",
    "        break"
   ]
  },
  {
   "cell_type": "code",
   "execution_count": 22,
   "metadata": {},
   "outputs": [
    {
     "name": "stdout",
     "output_type": "stream",
     "text": [
      "60\n",
      "57\n"
     ]
    }
   ],
   "source": [
    "url = \"https://zenn.dev/topics\"\n",
    "response = requests.get(url)\n",
    "soup = BeautifulSoup(response.text, \"html.parser\")\n",
    "\n",
    "# div class=\"TopicCardList_name__vcZH2\"を全て取得\n",
    "div = soup.find_all(\"div\", class_=\"TopicCardList_name__vcZH2\")\n",
    "\n",
    "# タグは消す\n",
    "tags = [d.text.replace(\"#\", \"\") for d in div]\n",
    "print(len(tags))\n"
   ]
  },
  {
   "cell_type": "markdown",
   "metadata": {},
   "source": [
    "### API\n",
    "https://zenn.dev/api/articles\n",
    "\n",
    "### docs\n",
    "https://zenn-dev.github.io/zenn-docs-for-developers/basics/overview"
   ]
  },
  {
   "cell_type": "code",
   "execution_count": null,
   "metadata": {},
   "outputs": [],
   "source": []
  },
  {
   "cell_type": "code",
   "execution_count": null,
   "metadata": {},
   "outputs": [],
   "source": []
  }
 ],
 "metadata": {
  "kernelspec": {
   "display_name": ".venv",
   "language": "python",
   "name": "python3"
  },
  "language_info": {
   "codemirror_mode": {
    "name": "ipython",
    "version": 3
   },
   "file_extension": ".py",
   "mimetype": "text/x-python",
   "name": "python",
   "nbconvert_exporter": "python",
   "pygments_lexer": "ipython3",
   "version": "3.10.11"
  },
  "orig_nbformat": 4
 },
 "nbformat": 4,
 "nbformat_minor": 2
}
